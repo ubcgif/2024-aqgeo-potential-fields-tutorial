{
 "cells": [
  {
   "cell_type": "markdown",
   "id": "e0b56587-fd1f-4a9e-b6da-885f4c233f9a",
   "metadata": {},
   "source": [
    "# Forward modelling gravity data"
   ]
  },
  {
   "cell_type": "code",
   "execution_count": 1,
   "id": "4d4a2a27-abcf-40ae-b61c-7d445b684028",
   "metadata": {
    "execution": {
     "iopub.execute_input": "2024-11-03T16:44:59.931892Z",
     "iopub.status.busy": "2024-11-03T16:44:59.931593Z",
     "iopub.status.idle": "2024-11-03T16:45:01.424107Z",
     "shell.execute_reply": "2024-11-03T16:45:01.423343Z",
     "shell.execute_reply.started": "2024-11-03T16:44:59.931864Z"
    }
   },
   "outputs": [],
   "source": [
    "import numpy as np\n",
    "import pandas as pd\n",
    "import matplotlib.pyplot as plt\n",
    "\n",
    "import discretize\n",
    "import simpeg\n",
    "from simpeg import potential_fields"
   ]
  },
  {
   "cell_type": "markdown",
   "id": "d21c4edb-b093-4bf9-bd71-e9810e644c49",
   "metadata": {},
   "source": [
    "## Build synthetic mesh"
   ]
  },
  {
   "cell_type": "code",
   "execution_count": 2,
   "id": "92c5737e-61d5-4083-a76e-aa59f5745bc2",
   "metadata": {
    "execution": {
     "iopub.execute_input": "2024-11-03T16:45:01.425349Z",
     "iopub.status.busy": "2024-11-03T16:45:01.424951Z",
     "iopub.status.idle": "2024-11-03T16:45:01.534156Z",
     "shell.execute_reply": "2024-11-03T16:45:01.533083Z",
     "shell.execute_reply.started": "2024-11-03T16:45:01.425315Z"
    }
   },
   "outputs": [
    {
     "data": {
      "text/html": [
       "<table>\n",
       "<tr>\n",
       "<td style='font-weight: bold; font-size: 1.2em; text-align: center;'>OcTreeMesh</td>\n",
       "<td style='font-size: 1.2em; text-align: center;' colspan='2'>0.09% filled</td>\n",
       "</tr>\n",
       "<tr>\n",
       "<td>\n",
       "<table>\n",
       "<tr>\n",
       "<th style='padding: 5px 20px 5px 20px;'>Level</th>\n",
       "<th style='padding: 5px 20px 5px 20px;'>Number of cells</th>\n",
       "</tr>\n",
       "<tr>\n",
       "<td style='padding: 5px 20px 5px 20px;'>2</td>\n",
       "<td style='padding: 5px 20px 5px 20px;'>28</td>\n",
       "</tr>\n",
       "<tr>\n",
       "<td style='padding: 5px 20px 5px 20px;'>3</td>\n",
       "<td style='padding: 5px 20px 5px 20px;'>176</td>\n",
       "</tr>\n",
       "<tr>\n",
       "<td style='padding: 5px 20px 5px 20px;'>4</td>\n",
       "<td style='padding: 5px 20px 5px 20px;'>536</td>\n",
       "</tr>\n",
       "<tr>\n",
       "<td style='padding: 5px 20px 5px 20px;'>5</td>\n",
       "<td style='padding: 5px 20px 5px 20px;'>1296</td>\n",
       "</tr>\n",
       "<tr>\n",
       "<td style='padding: 5px 20px 5px 20px;'>6</td>\n",
       "<td style='padding: 5px 20px 5px 20px;'>12672</td>\n",
       "</tr>\n",
       "<tr>\n",
       "<td style='font-weight: bold; padding: 5px 20px 5px 20px;'> Total </td>\n",
       "<td style='padding: 5px 20px 5px 20px;'> 14708 </td>\n",
       "</tr>\n",
       "</table>\n",
       "</td>\n",
       "<td>\n",
       "<table>\n",
       "<tr>\n",
       "<th></th>\n",
       "<th style='padding: 5px 20px 5px 20px;' colspan='2'>Mesh extent</th>\n",
       "<th style='padding: 5px 20px 5px 20px;' colspan='2'>Cell widths</th>\n",
       "</tr>\n",
       "<tr>\n",
       "<th></th>\n",
       "<th style='padding: 5px 20px 5px 20px;'>min</th>\n",
       "<th style='padding: 5px 20px 5px 20px;'>max</th>\n",
       "<th style='padding: 5px 20px 5px 20px;'>min</th>\n",
       "<th style='padding: 5px 20px 5px 20px;'>max</th>\n",
       "</tr>\n",
       "<tr>\n",
       "<td style='padding: 5px 20px 5px 20px;'>x</td>\n",
       "<td style='padding: 5px 20px 5px 20px;'>-6400.0</td>\n",
       "<td style='padding: 5px 20px 5px 20px;'>6400.0</td>\n",
       "<td style='padding: 5px 20px 5px 20px;'>200.0</td>\n",
       "<td style='padding: 5px 20px 5px 20px;'>3200.0</td>\n",
       "</tr>\n",
       "<tr>\n",
       "<td style='padding: 5px 20px 5px 20px;'>y</td>\n",
       "<td style='padding: 5px 20px 5px 20px;'>-6400.0</td>\n",
       "<td style='padding: 5px 20px 5px 20px;'>6400.0</td>\n",
       "<td style='padding: 5px 20px 5px 20px;'>200.0</td>\n",
       "<td style='padding: 5px 20px 5px 20px;'>3200.0</td>\n",
       "</tr>\n",
       "<tr>\n",
       "<td style='padding: 5px 20px 5px 20px;'>z</td>\n",
       "<td style='padding: 5px 20px 5px 20px;'>-6400.0</td>\n",
       "<td style='padding: 5px 20px 5px 20px;'>0.0</td>\n",
       "<td style='padding: 5px 20px 5px 20px;'>100.0</td>\n",
       "<td style='padding: 5px 20px 5px 20px;'>1600.0</td>\n",
       "</tr>\n",
       "</table>\n",
       "</td>\n",
       "</tr>\n",
       "</table>\n"
      ],
      "text/plain": [
       "\n",
       "OcTreeMesh: 0.09% filled\n",
       "\n",
       "Level : Number of cells               Mesh Extent               Cell Widths    \n",
       "-----------------------           min     ,     max            min   ,   max   \n",
       "  2   :       28             ---------------------------   --------------------\n",
       "  3   :       176         x:    -6400.0   ,   6400.0         200.0   ,   3200.0  \n",
       "  4   :       536         y:    -6400.0   ,   6400.0         200.0   ,   3200.0  \n",
       "  5   :      1296         z:    -6400.0   ,     0.0          100.0   ,   1600.0  \n",
       "  6   :      12672     \n",
       "-----------------------\n",
       "Total :      14708     "
      ]
     },
     "execution_count": 2,
     "metadata": {},
     "output_type": "execute_result"
    }
   ],
   "source": [
    "hx = [(50.0, 256)]\n",
    "hz = [(25.0, 256)]\n",
    "mesh = discretize.TreeMesh(h=[hx, hx, hz], origin=\"CCN\")\n",
    "mesh.refine_box(x0s=(-3e3, -3e3, -3e3), x1s=(3e3, 3e3, 0), levels=3, finalize=False)\n",
    "mesh.refine_box(x0s=(-2e3, -2e3, -2e3), x1s=(2e3, 2e3, 0), levels=6, finalize=False)\n",
    "mesh.finalize()\n",
    "mesh"
   ]
  },
  {
   "cell_type": "code",
   "execution_count": 3,
   "id": "36584cf3-5a56-459d-8ffa-f5ee7c95a370",
   "metadata": {
    "execution": {
     "iopub.execute_input": "2024-11-03T16:45:01.535495Z",
     "iopub.status.busy": "2024-11-03T16:45:01.535113Z",
     "iopub.status.idle": "2024-11-03T16:45:01.757488Z",
     "shell.execute_reply": "2024-11-03T16:45:01.756444Z",
     "shell.execute_reply.started": "2024-11-03T16:45:01.535450Z"
    }
   },
   "outputs": [
    {
     "data": {
      "image/png": "[encoded data removed]",
      "text/plain": [
       "<Figure size 640x480 with 1 Axes>"
      ]
     },
     "metadata": {},
     "output_type": "display_data"
    }
   ],
   "source": [
    "grid_opts = {\"linewidth\": 0.5, \"color\": \"k\"}\n",
    "\n",
    "mesh.plot_slice(mesh.cell_volumes, normal=\"x\", grid=True, grid_opts=grid_opts)\n",
    "plt.gca().set_aspect(\"equal\")\n",
    "plt.show()"
   ]
  },
  {
   "cell_type": "code",
   "execution_count": 4,
   "id": "be356ae5-eb8f-4183-8c99-9e3f142fb646",
   "metadata": {
    "execution": {
     "iopub.execute_input": "2024-11-03T16:45:01.759249Z",
     "iopub.status.busy": "2024-11-03T16:45:01.758525Z",
     "iopub.status.idle": "2024-11-03T16:45:01.888475Z",
     "shell.execute_reply": "2024-11-03T16:45:01.887713Z",
     "shell.execute_reply.started": "2024-11-03T16:45:01.759207Z"
    }
   },
   "outputs": [
    {
     "data": {
      "image/png": "[encoded data removed]",
      "text/plain": [
       "<Figure size 640x480 with 1 Axes>"
      ]
     },
     "metadata": {},
     "output_type": "display_data"
    }
   ],
   "source": [
    "grid_opts = {\"linewidth\": 0.5, \"color\": \"k\"}\n",
    "\n",
    "mesh.plot_slice(mesh.cell_volumes, normal=\"x\", grid=True, grid_opts=grid_opts)\n",
    "plt.gca().set_aspect(\"equal\")\n",
    "plt.xlim(-3e3, 3e3)\n",
    "plt.ylim(-3e3, 0)\n",
    "plt.show()"
   ]
  },
  {
   "cell_type": "code",
   "execution_count": 5,
   "id": "d578762e-9c12-4ebe-a14c-c421d2f974b2",
   "metadata": {
    "execution": {
     "iopub.execute_input": "2024-11-03T16:45:01.889364Z",
     "iopub.status.busy": "2024-11-03T16:45:01.889151Z",
     "iopub.status.idle": "2024-11-03T16:45:01.894380Z",
     "shell.execute_reply": "2024-11-03T16:45:01.893587Z",
     "shell.execute_reply.started": "2024-11-03T16:45:01.889343Z"
    }
   },
   "outputs": [],
   "source": [
    "block = (-300, 300, -300, 300, -800, -500)\n",
    "\n",
    "model = np.zeros(mesh.n_cells)\n",
    "model = simpeg.utils.model_builder.add_block(\n",
    "    mesh.cell_centers,\n",
    "    model,\n",
    "    p0=np.array(block[::2]),\n",
    "    p1=np.array(block[1::2]),\n",
    "    prop_value=0.2,\n",
    ")"
   ]
  },
  {
   "cell_type": "code",
   "execution_count": 6,
   "id": "47e36a05-ea33-4d3b-9c91-c6ac69de874a",
   "metadata": {
    "execution": {
     "iopub.execute_input": "2024-11-03T16:45:01.898239Z",
     "iopub.status.busy": "2024-11-03T16:45:01.897934Z",
     "iopub.status.idle": "2024-11-03T16:45:02.201819Z",
     "shell.execute_reply": "2024-11-03T16:45:02.201087Z",
     "shell.execute_reply.started": "2024-11-03T16:45:01.898217Z"
    }
   },
   "outputs": [
    {
     "data": {
      "image/png": "[encoded data removed]",
      "text/plain": [
       "<Figure size 640x480 with 2 Axes>"
      ]
     },
     "metadata": {},
     "output_type": "display_data"
    }
   ],
   "source": [
    "grid_opts = {\"linewidth\": 0.5, \"color\": \"k\"}\n",
    "\n",
    "maxabs = np.max(np.abs(model))\n",
    "                \n",
    "tmp, = mesh.plot_slice(\n",
    "    model,\n",
    "    normal=\"x\",\n",
    "    grid=True,\n",
    "    grid_opts=grid_opts,\n",
    "    clim=(-maxabs, maxabs),\n",
    "    pcolor_opts=dict(cmap=\"RdBu_r\"),\n",
    ")\n",
    "plt.gca().set_aspect(\"equal\")\n",
    "plt.colorbar(tmp, orientation=\"horizontal\", label=\"Density contrast [g/cc]\")\n",
    "plt.show()"
   ]
  },
  {
   "cell_type": "code",
   "execution_count": 7,
   "id": "6830f4de-327e-4fff-9551-a23650387d65",
   "metadata": {
    "execution": {
     "iopub.execute_input": "2024-11-03T16:45:02.202636Z",
     "iopub.status.busy": "2024-11-03T16:45:02.202429Z",
     "iopub.status.idle": "2024-11-03T16:45:02.388450Z",
     "shell.execute_reply": "2024-11-03T16:45:02.387782Z",
     "shell.execute_reply.started": "2024-11-03T16:45:02.202614Z"
    }
   },
   "outputs": [
    {
     "data": {
      "image/png": "[encoded data removed]",
      "text/plain": [
       "<Figure size 640x480 with 2 Axes>"
      ]
     },
     "metadata": {},
     "output_type": "display_data"
    }
   ],
   "source": [
    "grid_opts = {\"linewidth\": 0.5, \"color\": \"k\"}\n",
    "\n",
    "maxabs = np.max(np.abs(model))\n",
    "                \n",
    "tmp, = mesh.plot_slice(\n",
    "    model,\n",
    "    normal=\"x\",\n",
    "    grid=True,\n",
    "    grid_opts=grid_opts,\n",
    "    clim=(-maxabs, maxabs),\n",
    "    pcolor_opts=dict(cmap=\"RdBu_r\"),\n",
    ")\n",
    "plt.gca().set_aspect(\"equal\")\n",
    "plt.colorbar(tmp, orientation=\"horizontal\", label=\"Density contrast [g/cc]\")\n",
    "plt.xlim(-3e3, 3e3)\n",
    "plt.ylim(-3e3, 0)\n",
    "plt.show()"
   ]
  },
  {
   "cell_type": "markdown",
   "id": "e6993a9e-c1eb-4bb3-b401-88cc2b8bc184",
   "metadata": {},
   "source": [
    "## Forward modelling"
   ]
  },
  {
   "cell_type": "code",
   "execution_count": 8,
   "id": "def6828c-dd42-4e41-8d26-bd7ddf8f478a",
   "metadata": {
    "execution": {
     "iopub.execute_input": "2024-11-03T16:45:02.389263Z",
     "iopub.status.busy": "2024-11-03T16:45:02.389050Z",
     "iopub.status.idle": "2024-11-03T16:45:02.395552Z",
     "shell.execute_reply": "2024-11-03T16:45:02.394599Z",
     "shell.execute_reply.started": "2024-11-03T16:45:02.389242Z"
    }
   },
   "outputs": [
    {
     "name": "stdout",
     "output_type": "stream",
     "text": [
      "(41, 41)\n"
     ]
    }
   ],
   "source": [
    "region = (-2e3, 2e3, -2e3, 2e3)\n",
    "spacing = (100, 100)\n",
    "height = 10.0\n",
    "\n",
    "shape = (\n",
    "    int((region[1] - region[0]) / spacing[1]) + 1,\n",
    "    int((region[3] - region[2]) / spacing[0]) + 1,\n",
    ")\n",
    "\n",
    "easting = np.linspace(*region[:2], shape[1])\n",
    "northing = np.linspace(*region[2:], shape[0])\n",
    "easting, northing = np.meshgrid(easting, northing)\n",
    "upward = height * np.ones_like(easting)\n",
    "\n",
    "print(shape)"
   ]
  },
  {
   "cell_type": "code",
   "execution_count": 9,
   "id": "6d44ce5a-3f37-47f5-8928-d0b8e296f280",
   "metadata": {
    "execution": {
     "iopub.execute_input": "2024-11-03T16:45:02.396595Z",
     "iopub.status.busy": "2024-11-03T16:45:02.396330Z",
     "iopub.status.idle": "2024-11-03T16:45:02.403622Z",
     "shell.execute_reply": "2024-11-03T16:45:02.402828Z",
     "shell.execute_reply.started": "2024-11-03T16:45:02.396573Z"
    }
   },
   "outputs": [
    {
     "data": {
      "text/plain": [
       "(1681, 3)"
      ]
     },
     "execution_count": 9,
     "metadata": {},
     "output_type": "execute_result"
    }
   ],
   "source": [
    "receiver_locations = np.vstack(\n",
    "    tuple(c.ravel() for c in (easting, northing, upward))\n",
    ").T\n",
    "receiver_locations.shape"
   ]
  },
  {
   "cell_type": "code",
   "execution_count": 10,
   "id": "cf495095-85ea-4867-82be-fbc8cd77de05",
   "metadata": {
    "execution": {
     "iopub.execute_input": "2024-11-03T16:45:02.404697Z",
     "iopub.status.busy": "2024-11-03T16:45:02.404468Z",
     "iopub.status.idle": "2024-11-03T16:45:02.408706Z",
     "shell.execute_reply": "2024-11-03T16:45:02.407945Z",
     "shell.execute_reply.started": "2024-11-03T16:45:02.404675Z"
    }
   },
   "outputs": [],
   "source": [
    "receivers = potential_fields.gravity.Point(\n",
    "    receiver_locations,\n",
    "    components=\"gz\",\n",
    ")\n",
    "\n",
    "source = potential_fields.gravity.SourceField(\n",
    "    receiver_list=[receivers],\n",
    ")\n",
    "\n",
    "survey = potential_fields.gravity.Survey(source)"
   ]
  },
  {
   "cell_type": "code",
   "execution_count": 11,
   "id": "033c5fa7-4e54-41b2-b0eb-5d36206688f7",
   "metadata": {
    "execution": {
     "iopub.execute_input": "2024-11-03T16:45:02.409427Z",
     "iopub.status.busy": "2024-11-03T16:45:02.409211Z",
     "iopub.status.idle": "2024-11-03T16:45:02.430722Z",
     "shell.execute_reply": "2024-11-03T16:45:02.430052Z",
     "shell.execute_reply.started": "2024-11-03T16:45:02.409405Z"
    }
   },
   "outputs": [],
   "source": [
    "mapping = simpeg.maps.IdentityMap(mesh)\n",
    "simulation = potential_fields.gravity.Simulation3DIntegral(\n",
    "    mesh=mesh,\n",
    "    survey=survey,\n",
    "    rhoMap=mapping,\n",
    "    engine=\"choclo\",\n",
    ")"
   ]
  },
  {
   "cell_type": "code",
   "execution_count": 12,
   "id": "a73a7036-eed1-4860-a8bb-64d9a168175c",
   "metadata": {
    "execution": {
     "iopub.execute_input": "2024-11-03T16:45:02.431659Z",
     "iopub.status.busy": "2024-11-03T16:45:02.431388Z",
     "iopub.status.idle": "2024-11-03T16:45:04.102651Z",
     "shell.execute_reply": "2024-11-03T16:45:04.101456Z",
     "shell.execute_reply.started": "2024-11-03T16:45:02.431636Z"
    }
   },
   "outputs": [
    {
     "data": {
      "text/plain": [
       "array([-0.00706398, -0.00759154, -0.00815559, ..., -0.00815559,\n",
       "       -0.00759154, -0.00706398], dtype=float32)"
      ]
     },
     "execution_count": 12,
     "metadata": {},
     "output_type": "execute_result"
    }
   ],
   "source": [
    "gz = simulation.dpred(model)\n",
    "gz"
   ]
  },
  {
   "cell_type": "code",
   "execution_count": 13,
   "id": "f5671e64-7032-4416-b6b1-fcda8776c4c2",
   "metadata": {
    "execution": {
     "iopub.execute_input": "2024-11-03T16:45:04.105982Z",
     "iopub.status.busy": "2024-11-03T16:45:04.105479Z",
     "iopub.status.idle": "2024-11-03T16:45:04.343241Z",
     "shell.execute_reply": "2024-11-03T16:45:04.342620Z",
     "shell.execute_reply.started": "2024-11-03T16:45:04.105949Z"
    }
   },
   "outputs": [
    {
     "data": {
      "image/png": "[encoded data removed]",
      "text/plain": [
       "<Figure size 640x480 with 2 Axes>"
      ]
     },
     "metadata": {},
     "output_type": "display_data"
    }
   ],
   "source": [
    "maxabs = np.max(np.abs(gz))\n",
    "\n",
    "plt.pcolormesh(\n",
    "    easting,\n",
    "    northing,\n",
    "    gz.reshape(easting.shape),\n",
    "    cmap=\"RdBu_r\",\n",
    "    vmin=-maxabs,\n",
    "    vmax=maxabs\n",
    ")\n",
    "plt.gca().set_aspect(\"equal\")\n",
    "plt.colorbar(label=\"gz [mGal]\")\n",
    "plt.title(\"gz\")\n",
    "plt.show()"
   ]
  },
  {
   "cell_type": "markdown",
   "id": "2799e405-fad4-43dd-8129-639eafb3eaad",
   "metadata": {},
   "source": [
    "Add gaussian noise to the synthetic data"
   ]
  },
  {
   "cell_type": "code",
   "execution_count": 14,
   "id": "d0b5165e-7944-4fc7-849b-0b1aad283c9e",
   "metadata": {
    "execution": {
     "iopub.execute_input": "2024-11-03T16:45:04.344159Z",
     "iopub.status.busy": "2024-11-03T16:45:04.343887Z",
     "iopub.status.idle": "2024-11-03T16:45:04.348725Z",
     "shell.execute_reply": "2024-11-03T16:45:04.348044Z",
     "shell.execute_reply.started": "2024-11-03T16:45:04.344139Z"
    }
   },
   "outputs": [],
   "source": [
    "percentage = 1/100\n",
    "rng = np.random.default_rng(42)\n",
    "\n",
    "std = percentage * np.max(np.abs(gz))\n",
    "gz += rng.normal(loc=0, scale=std, size=gz.size)"
   ]
  },
  {
   "cell_type": "code",
   "execution_count": 15,
   "id": "14a539df-fe00-4b2c-adff-196e7372a3d5",
   "metadata": {
    "execution": {
     "iopub.execute_input": "2024-11-03T16:45:04.349935Z",
     "iopub.status.busy": "2024-11-03T16:45:04.349578Z",
     "iopub.status.idle": "2024-11-03T16:45:04.539976Z",
     "shell.execute_reply": "2024-11-03T16:45:04.539308Z",
     "shell.execute_reply.started": "2024-11-03T16:45:04.349889Z"
    }
   },
   "outputs": [
    {
     "data": {
      "image/png": "[encoded data removed]",
      "text/plain": [
       "<Figure size 640x480 with 2 Axes>"
      ]
     },
     "metadata": {},
     "output_type": "display_data"
    }
   ],
   "source": [
    "maxabs = np.max(np.abs(gz))\n",
    "\n",
    "plt.pcolormesh(\n",
    "    easting,\n",
    "    northing,\n",
    "    gz.reshape(easting.shape),\n",
    "    cmap=\"RdBu_r\",\n",
    "    vmin=-maxabs,\n",
    "    vmax=maxabs\n",
    ")\n",
    "plt.gca().set_aspect(\"equal\")\n",
    "plt.colorbar(label=\"gz [mGal]\")\n",
    "plt.title(\"gz\")\n",
    "plt.show()"
   ]
  },
  {
   "cell_type": "markdown",
   "id": "32beed50-6eb4-427c-a670-5f7429153344",
   "metadata": {},
   "source": [
    "## Save data in file"
   ]
  },
  {
   "cell_type": "code",
   "execution_count": 16,
   "id": "f56d12c3-475d-47fe-8fe8-8b24f8d50d16",
   "metadata": {
    "execution": {
     "iopub.execute_input": "2024-11-03T16:45:04.540997Z",
     "iopub.status.busy": "2024-11-03T16:45:04.540696Z",
     "iopub.status.idle": "2024-11-03T16:45:04.557296Z",
     "shell.execute_reply": "2024-11-03T16:45:04.556460Z",
     "shell.execute_reply.started": "2024-11-03T16:45:04.540977Z"
    }
   },
   "outputs": [
    {
     "data": {
      "text/html": [
       "<div>\n",
       "<style scoped>\n",
       "    .dataframe tbody tr th:only-of-type {\n",
       "        vertical-align: middle;\n",
       "    }\n",
       "\n",
       "    .dataframe tbody tr th {\n",
       "        vertical-align: top;\n",
       "    }\n",
       "\n",
       "    .dataframe thead th {\n",
       "        text-align: right;\n",
       "    }\n",
       "</style>\n",
       "<table border=\"1\" class=\"dataframe\">\n",
       "  <thead>\n",
       "    <tr style=\"text-align: right;\">\n",
       "      <th></th>\n",
       "      <th>easting</th>\n",
       "      <th>northing</th>\n",
       "      <th>upward</th>\n",
       "      <th>gz</th>\n",
       "      <th>gz_std</th>\n",
       "    </tr>\n",
       "  </thead>\n",
       "  <tbody>\n",
       "    <tr>\n",
       "      <th>0</th>\n",
       "      <td>-2000.0</td>\n",
       "      <td>-2000.0</td>\n",
       "      <td>10.0</td>\n",
       "      <td>-0.005701</td>\n",
       "      <td>0.004473</td>\n",
       "    </tr>\n",
       "    <tr>\n",
       "      <th>1</th>\n",
       "      <td>-1900.0</td>\n",
       "      <td>-2000.0</td>\n",
       "      <td>10.0</td>\n",
       "      <td>-0.012244</td>\n",
       "      <td>0.004473</td>\n",
       "    </tr>\n",
       "    <tr>\n",
       "      <th>2</th>\n",
       "      <td>-1800.0</td>\n",
       "      <td>-2000.0</td>\n",
       "      <td>10.0</td>\n",
       "      <td>-0.004799</td>\n",
       "      <td>0.004473</td>\n",
       "    </tr>\n",
       "    <tr>\n",
       "      <th>3</th>\n",
       "      <td>-1700.0</td>\n",
       "      <td>-2000.0</td>\n",
       "      <td>10.0</td>\n",
       "      <td>-0.004549</td>\n",
       "      <td>0.004473</td>\n",
       "    </tr>\n",
       "    <tr>\n",
       "      <th>4</th>\n",
       "      <td>-1600.0</td>\n",
       "      <td>-2000.0</td>\n",
       "      <td>10.0</td>\n",
       "      <td>-0.018121</td>\n",
       "      <td>0.004473</td>\n",
       "    </tr>\n",
       "    <tr>\n",
       "      <th>...</th>\n",
       "      <td>...</td>\n",
       "      <td>...</td>\n",
       "      <td>...</td>\n",
       "      <td>...</td>\n",
       "      <td>...</td>\n",
       "    </tr>\n",
       "    <tr>\n",
       "      <th>1676</th>\n",
       "      <td>1600.0</td>\n",
       "      <td>2000.0</td>\n",
       "      <td>10.0</td>\n",
       "      <td>-0.004972</td>\n",
       "      <td>0.004473</td>\n",
       "    </tr>\n",
       "    <tr>\n",
       "      <th>1677</th>\n",
       "      <td>1700.0</td>\n",
       "      <td>2000.0</td>\n",
       "      <td>10.0</td>\n",
       "      <td>-0.007126</td>\n",
       "      <td>0.004473</td>\n",
       "    </tr>\n",
       "    <tr>\n",
       "      <th>1678</th>\n",
       "      <td>1800.0</td>\n",
       "      <td>2000.0</td>\n",
       "      <td>10.0</td>\n",
       "      <td>-0.011403</td>\n",
       "      <td>0.004473</td>\n",
       "    </tr>\n",
       "    <tr>\n",
       "      <th>1679</th>\n",
       "      <td>1900.0</td>\n",
       "      <td>2000.0</td>\n",
       "      <td>10.0</td>\n",
       "      <td>-0.008847</td>\n",
       "      <td>0.004473</td>\n",
       "    </tr>\n",
       "    <tr>\n",
       "      <th>1680</th>\n",
       "      <td>2000.0</td>\n",
       "      <td>2000.0</td>\n",
       "      <td>10.0</td>\n",
       "      <td>-0.013777</td>\n",
       "      <td>0.004473</td>\n",
       "    </tr>\n",
       "  </tbody>\n",
       "</table>\n",
       "<p>1681 rows × 5 columns</p>\n",
       "</div>"
      ],
      "text/plain": [
       "      easting  northing  upward        gz    gz_std\n",
       "0     -2000.0   -2000.0    10.0 -0.005701  0.004473\n",
       "1     -1900.0   -2000.0    10.0 -0.012244  0.004473\n",
       "2     -1800.0   -2000.0    10.0 -0.004799  0.004473\n",
       "3     -1700.0   -2000.0    10.0 -0.004549  0.004473\n",
       "4     -1600.0   -2000.0    10.0 -0.018121  0.004473\n",
       "...       ...       ...     ...       ...       ...\n",
       "1676   1600.0    2000.0    10.0 -0.004972  0.004473\n",
       "1677   1700.0    2000.0    10.0 -0.007126  0.004473\n",
       "1678   1800.0    2000.0    10.0 -0.011403  0.004473\n",
       "1679   1900.0    2000.0    10.0 -0.008847  0.004473\n",
       "1680   2000.0    2000.0    10.0 -0.013777  0.004473\n",
       "\n",
       "[1681 rows x 5 columns]"
      ]
     },
     "execution_count": 16,
     "metadata": {},
     "output_type": "execute_result"
    }
   ],
   "source": [
    "easting, northing, upward = tuple(\n",
    "    receivers.locations[:, i] for i in range(3)\n",
    ")\n",
    "gz_std = np.ones_like(gz) * std\n",
    "\n",
    "df = pd.DataFrame(\n",
    "    dict(\n",
    "        easting=easting,\n",
    "        northing=northing,\n",
    "        upward=upward,\n",
    "        gz=gz,\n",
    "        gz_std=gz_std,\n",
    "    )\n",
    ")\n",
    "df"
   ]
  },
  {
   "cell_type": "code",
   "execution_count": 17,
   "id": "b57ae799-afc2-4aeb-903a-4c6292b4a103",
   "metadata": {
    "execution": {
     "iopub.execute_input": "2024-11-03T16:45:04.558327Z",
     "iopub.status.busy": "2024-11-03T16:45:04.558072Z",
     "iopub.status.idle": "2024-11-03T16:45:04.574350Z",
     "shell.execute_reply": "2024-11-03T16:45:04.573593Z",
     "shell.execute_reply.started": "2024-11-03T16:45:04.558305Z"
    }
   },
   "outputs": [],
   "source": [
    "df.to_csv(\"gravity.csv\", index=None)"
   ]
  },
  {
   "cell_type": "code",
   "execution_count": 18,
   "id": "10e98b58-5fa2-4096-b4ba-5f57896005af",
   "metadata": {
    "execution": {
     "iopub.execute_input": "2024-11-03T16:45:04.576124Z",
     "iopub.status.busy": "2024-11-03T16:45:04.575371Z",
     "iopub.status.idle": "2024-11-03T16:45:04.581081Z",
     "shell.execute_reply": "2024-11-03T16:45:04.579751Z",
     "shell.execute_reply.started": "2024-11-03T16:45:04.576086Z"
    },
    "tags": []
   },
   "outputs": [],
   "source": [
    "region = (-2e3, 2e3, -2e3, 2e3)"
   ]
  },
  {
   "cell_type": "code",
   "execution_count": 19,
   "id": "33e12add-6277-41e3-9d69-8204e6d56f44",
   "metadata": {
    "execution": {
     "iopub.execute_input": "2024-11-03T16:45:04.582864Z",
     "iopub.status.busy": "2024-11-03T16:45:04.582184Z",
     "iopub.status.idle": "2024-11-03T16:45:04.587423Z",
     "shell.execute_reply": "2024-11-03T16:45:04.586192Z",
     "shell.execute_reply.started": "2024-11-03T16:45:04.582818Z"
    },
    "tags": []
   },
   "outputs": [],
   "source": [
    "spacing = (10, 10, 5)"
   ]
  },
  {
   "cell_type": "code",
   "execution_count": 20,
   "id": "e5fe4c94-9aff-4357-9538-0fa951658811",
   "metadata": {
    "execution": {
     "iopub.execute_input": "2024-11-03T16:45:04.589039Z",
     "iopub.status.busy": "2024-11-03T16:45:04.588613Z",
     "iopub.status.idle": "2024-11-03T16:45:05.104927Z",
     "shell.execute_reply": "2024-11-03T16:45:05.103167Z",
     "shell.execute_reply.started": "2024-11-03T16:45:04.588997Z"
    },
    "tags": []
   },
   "outputs": [
    {
     "ename": "NameError",
     "evalue": "name 'vd' is not defined",
     "output_type": "error",
     "traceback": [
      "\u001b[0;31m---------------------------------------------------------------------------\u001b[0m",
      "\u001b[0;31mNameError\u001b[0m                                 Traceback (most recent call last)",
      "Cell \u001b[0;32mIn[20], line 2\u001b[0m\n\u001b[1;32m      1\u001b[0m padding \u001b[38;5;241m=\u001b[39m \u001b[38;5;241m80\u001b[39m\n\u001b[0;32m----> 2\u001b[0m region_pad \u001b[38;5;241m=\u001b[39m \u001b[43mvd\u001b[49m\u001b[38;5;241m.\u001b[39mpad_region(region, padding)\n\u001b[1;32m      3\u001b[0m region_pad\n",
      "\u001b[0;31mNameError\u001b[0m: name 'vd' is not defined"
     ]
    }
   ],
   "source": [
    "padding = 80\n",
    "region_pad = vd.pad_region(region, padding)\n",
    "region_pad"
   ]
  },
  {
   "cell_type": "code",
   "execution_count": null,
   "id": "f494e5d5-6f6b-4fe5-950e-4db79bd3d990",
   "metadata": {
    "execution": {
     "iopub.status.busy": "2024-11-03T16:45:05.105465Z",
     "iopub.status.idle": "2024-11-03T16:45:05.105753Z",
     "shell.execute_reply": "2024-11-03T16:45:05.105624Z",
     "shell.execute_reply.started": "2024-11-03T16:45:05.105611Z"
    },
    "tags": []
   },
   "outputs": [],
   "source": [
    "mesh_bottom, mesh_top = -150, 0\n",
    "boundaries = list(region_pad) + [mesh_bottom, mesh_top]"
   ]
  },
  {
   "cell_type": "code",
   "execution_count": null,
   "id": "a8b92b6e-373e-4ad6-9481-62ebfa67bde9",
   "metadata": {
    "execution": {
     "iopub.status.busy": "2024-11-03T16:45:05.106779Z",
     "iopub.status.idle": "2024-11-03T16:45:05.107220Z",
     "shell.execute_reply": "2024-11-03T16:45:05.107023Z",
     "shell.execute_reply.started": "2024-11-03T16:45:05.107004Z"
    },
    "tags": []
   },
   "outputs": [],
   "source": [
    "def get_box_region(mesh, padding_added):\n",
    "    \"\"\"\n",
    "    Return the region for applying refinement on the mesh\n",
    "    \"\"\"\n",
    "    # Get true boundaries of the mesh\n",
    "    west, south = mesh.origin[:2]\n",
    "    east = west + mesh.hx[0] * mesh.hx.size\n",
    "    north = south + mesh.hy[0] * mesh.hy.size\n",
    "    # Remove the padding added to the region\n",
    "    return (west + padding, east - padding, south + padding, north - padding)"
   ]
  },
  {
   "cell_type": "code",
   "execution_count": null,
   "id": "c63e3ce0-4b39-4fa1-926e-f0c847d42a58",
   "metadata": {
    "execution": {
     "iopub.status.busy": "2024-11-03T16:45:05.108300Z",
     "iopub.status.idle": "2024-11-03T16:45:05.108730Z",
     "shell.execute_reply": "2024-11-03T16:45:05.108532Z",
     "shell.execute_reply.started": "2024-11-03T16:45:05.108513Z"
    },
    "tags": []
   },
   "outputs": [],
   "source": [
    "mesh = create_treemesh(boundaries, spacing, adjust=\"region\")\n",
    "\n",
    "# Refine mesh\n",
    "lower_left = [region[0], region[2], -80]\n",
    "upper_right = [region[1], region[3], mesh_top]\n",
    "mesh.refine_box(\n",
    "    lower_left,\n",
    "    upper_right,\n",
    "    levels=7,\n",
    "    finalize=False,\n",
    ")\n",
    "\n",
    "mesh.finalize()\n",
    "mesh"
   ]
  },
  {
   "cell_type": "code",
   "execution_count": null,
   "id": "f33771bb-2c06-4c91-9817-dbf6510cbc5e",
   "metadata": {
    "execution": {
     "iopub.status.busy": "2024-11-03T16:45:05.110028Z",
     "iopub.status.idle": "2024-11-03T16:45:05.110423Z",
     "shell.execute_reply": "2024-11-03T16:45:05.110237Z",
     "shell.execute_reply.started": "2024-11-03T16:45:05.110218Z"
    },
    "tags": []
   },
   "outputs": [],
   "source": [
    "grid_opts = {\"linewidth\": 0.5, \"color\": \"k\"}\n",
    "\n",
    "fig, ax = plt.subplots(nrows=1, ncols=1, figsize=(12, 12))\n",
    "ax.set_aspect(\"equal\")\n",
    "tmp, = mesh.plot_slice(\n",
    "    mesh.cell_volumes,\n",
    "    ax=ax,\n",
    "    normal=\"y\",\n",
    "    grid=True,\n",
    "    grid_opts=grid_opts,\n",
    ")\n",
    "plt.show()"
   ]
  }
 ],
 "metadata": {
  "kernelspec": {
   "display_name": "Python [conda env:aqgeo-2024-potential-fields]",
   "language": "python",
   "name": "conda-env-aqgeo-2024-potential-fields-py"
  },
  "language_info": {
   "codemirror_mode": {
    "name": "ipython",
    "version": 3
   },
   "file_extension": ".py",
   "mimetype": "text/x-python",
   "name": "python",
   "nbconvert_exporter": "python",
   "pygments_lexer": "ipython3",
   "version": "3.10.15"
  }
 },
 "nbformat": 4,
 "nbformat_minor": 5
}
